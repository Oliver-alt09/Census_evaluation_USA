{
 "cells": [
  {
   "cell_type": "code",
   "execution_count": 1,
   "id": "8e1f78ba-5a65-4aaa-8d16-68853f0f87b1",
   "metadata": {},
   "outputs": [],
   "source": [
    "from sklearn.model_selection import train_test_split\n",
    "from sklearn.svm import SVC\n",
    "from sklearn.metrics import accuracy_score\n",
    "from sklearn.preprocessing import OneHotEncoder\n",
    "from sklearn.preprocessing import OrdinalEncoder\n",
    "import pandas as pd\n",
    "import numpy as np\n",
    "\n",
    "dt=pd.read_csv(\"D:state-population.csv\").head(500)\n",
    "ht=OneHotEncoder(sparse_output=False)\n",
    "od=OrdinalEncoder()\n",
    "dt['year_code']=od.fit_transform(dt[['year']])\n",
    "dt['state_code']=od.fit_transform(dt[['state/region']])\n",
    "result=ht.fit_transform(dt[['ages']])\n",
    "dt=dt.join(pd.DataFrame(result, columns=['total','under18']))\n",
    "dt.fillna(dt['population'].median,inplace=True)"
   ]
  },
  {
   "cell_type": "code",
   "execution_count": null,
   "id": "4d7e0cf2-1dbe-4871-a7e9-3fde3b99c6a6",
   "metadata": {},
   "outputs": [],
   "source": [
    "X=dt[['state_code','population','year_code']]\n",
    "y=dt['under18']\n",
    "x_train,x_test,y_train,y_test=train_test_split(X,y, test_size=0.3,random_state=10)"
   ]
  },
  {
   "cell_type": "code",
   "execution_count": 2,
   "id": "ba2219fc-956c-4e93-ae13-fc58064eca49",
   "metadata": {},
   "outputs": [
    {
     "ename": "NameError",
     "evalue": "name 'x_train' is not defined",
     "output_type": "error",
     "traceback": [
      "\u001b[1;31m---------------------------------------------------------------------------\u001b[0m",
      "\u001b[1;31mNameError\u001b[0m                                 Traceback (most recent call last)",
      "Cell \u001b[1;32mIn[2], line 3\u001b[0m\n\u001b[0;32m      1\u001b[0m \u001b[38;5;28;01mfrom\u001b[39;00m \u001b[38;5;21;01msklearn\u001b[39;00m\u001b[38;5;21;01m.\u001b[39;00m\u001b[38;5;21;01mlinear_model\u001b[39;00m \u001b[38;5;28;01mimport\u001b[39;00m LogisticRegression\n\u001b[0;32m      2\u001b[0m lr\u001b[38;5;241m=\u001b[39mLogisticRegression(max_iter\u001b[38;5;241m=\u001b[39m\u001b[38;5;241m1000\u001b[39m)\n\u001b[1;32m----> 3\u001b[0m lr\u001b[38;5;241m.\u001b[39mfit(x_train,y_train)\n\u001b[0;32m      4\u001b[0m lr\u001b[38;5;241m.\u001b[39mpredict(x_test)\n",
      "\u001b[1;31mNameError\u001b[0m: name 'x_train' is not defined"
     ]
    }
   ],
   "source": [
    "from sklearn.linear_model import LogisticRegression\n",
    "lr=LogisticRegression(max_iter=1000)\n",
    "lr.fit(x_train,y_train)\n",
    "lr.predict(x_test)"
   ]
  },
  {
   "cell_type": "code",
   "execution_count": null,
   "id": "7d33e10b-2b51-42c8-b0f0-95ad0f799e6b",
   "metadata": {},
   "outputs": [],
   "source": [
    "lr.score(x_train,y_train)"
   ]
  },
  {
   "cell_type": "code",
   "execution_count": null,
   "id": "a3552e76-c9b9-4392-9a27-6bc22dc4cafb",
   "metadata": {},
   "outputs": [],
   "source": [
    "lr.score(x_test,y_test)"
   ]
  },
  {
   "cell_type": "code",
   "execution_count": null,
   "id": "a034ae88-2097-440e-a5ef-35914a2a519d",
   "metadata": {},
   "outputs": [],
   "source": [
    "from sklearn.model_selection import KFold, cross_val_score\n",
    "kf=KFold(n_splits=6, shuffle=True, random_state=50)\n",
    "score_svc=cross_val_score(lr, X,y, cv=kf, scoring='accuracy')\n",
    "np.mean(score_svc)"
   ]
  },
  {
   "cell_type": "code",
   "execution_count": null,
   "id": "40634daf-9a6d-418d-948f-9e472ca43d5d",
   "metadata": {},
   "outputs": [],
   "source": []
  }
 ],
 "metadata": {
  "kernelspec": {
   "display_name": "Python [conda env:base] *",
   "language": "python",
   "name": "conda-base-py"
  },
  "language_info": {
   "codemirror_mode": {
    "name": "ipython",
    "version": 3
   },
   "file_extension": ".py",
   "mimetype": "text/x-python",
   "name": "python",
   "nbconvert_exporter": "python",
   "pygments_lexer": "ipython3",
   "version": "3.12.7"
  }
 },
 "nbformat": 4,
 "nbformat_minor": 5
}
